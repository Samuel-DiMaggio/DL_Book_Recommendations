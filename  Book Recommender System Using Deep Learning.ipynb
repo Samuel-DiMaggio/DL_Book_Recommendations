{
 "cells": [
  {
   "cell_type": "markdown",
   "id": "b0b8c1ab",
   "metadata": {},
   "source": [
    "# A Simple Book Recommender System Using Deep Learning"
   ]
  },
  {
   "cell_type": "markdown",
   "id": "cecf92dd",
   "metadata": {},
   "source": [
    "## Contents\n",
    "\n",
    "### Books File\n",
    "\n",
    "Books are identified by their respective ISBN. Invalid ISBNs have already been removed from the dataset. Moreover, some content-based information is given (Book-Title, Book-Author, Year-Of-Publication, Publisher), obtained from Amazon Web Services. Note that in case of several authors, only the first is provided. URLs linking to cover images are also given, appearing in three different flavours (Image-URL-S, Image-URL-M, Image-URL-L), i.e., small, medium, large. These URLs point to the Amazon web site.\n",
    "\n",
    "### Ratings File\n",
    "\n",
    "Contains the book rating information. Ratings (Book-Rating) are either explicit, expressed on a scale from 1-10 (higher values denoting higher appreciation), or implicit, expressed by 0."
   ]
  },
  {
   "cell_type": "markdown",
   "id": "711c6cae",
   "metadata": {},
   "source": [
    "## Import the library and Fix the Seeds"
   ]
  },
  {
   "cell_type": "code",
   "execution_count": 1,
   "id": "97ef1969",
   "metadata": {},
   "outputs": [],
   "source": [
    "import os\n",
    "import math\n",
    "from zipfile import ZipFile\n",
    "from urllib.request import urlretrieve\n",
    "import numpy as np\n",
    "import pandas as pd\n",
    "import tensorflow as tf\n",
    "from tensorflow import keras\n",
    "from tensorflow.keras import layers\n",
    "from tensorflow.keras.layers.experimental.preprocessing import StringLookup\n",
    "import random\n",
    "import pathlib\n",
    "from sklearn.model_selection import train_test_split\n",
    "from sklearn.preprocessing import MinMaxScaler\n",
    "import seaborn as sns\n",
    "import matplotlib.pyplot as plt\n",
    "%matplotlib inline\n",
    "\n",
    "SEED = 101\n",
    "os.environ['PYTHONHASHSEED']=str(SEED)\n",
    "os.environ['TF_CUDNN_DETERMINISTIC'] = '1'  \n",
    "random.seed(SEED)\n",
    "np.random.seed(SEED)\n",
    "tf.random.set_seed(SEED)"
   ]
  },
  {
   "cell_type": "markdown",
   "id": "d48b4d43",
   "metadata": {},
   "source": [
    "## Load and Clean the Data"
   ]
  },
  {
   "cell_type": "code",
   "execution_count": 2,
   "id": "4b50a226",
   "metadata": {},
   "outputs": [],
   "source": [
    "ratings = pd.read_csv('Ratings.csv', low_memory=False)\n",
    "books = pd.read_csv('Books.csv', low_memory=False)"
   ]
  },
  {
   "cell_type": "code",
   "execution_count": 3,
   "id": "6454eab1",
   "metadata": {},
   "outputs": [
    {
     "data": {
      "text/html": [
       "<div>\n",
       "<style scoped>\n",
       "    .dataframe tbody tr th:only-of-type {\n",
       "        vertical-align: middle;\n",
       "    }\n",
       "\n",
       "    .dataframe tbody tr th {\n",
       "        vertical-align: top;\n",
       "    }\n",
       "\n",
       "    .dataframe thead th {\n",
       "        text-align: right;\n",
       "    }\n",
       "</style>\n",
       "<table border=\"1\" class=\"dataframe\">\n",
       "  <thead>\n",
       "    <tr style=\"text-align: right;\">\n",
       "      <th></th>\n",
       "      <th>User-ID</th>\n",
       "      <th>ISBN</th>\n",
       "      <th>Book-Rating</th>\n",
       "    </tr>\n",
       "  </thead>\n",
       "  <tbody>\n",
       "    <tr>\n",
       "      <th>0</th>\n",
       "      <td>276725</td>\n",
       "      <td>034545104X</td>\n",
       "      <td>0</td>\n",
       "    </tr>\n",
       "    <tr>\n",
       "      <th>1</th>\n",
       "      <td>276726</td>\n",
       "      <td>155061224</td>\n",
       "      <td>5</td>\n",
       "    </tr>\n",
       "    <tr>\n",
       "      <th>2</th>\n",
       "      <td>276727</td>\n",
       "      <td>446520802</td>\n",
       "      <td>0</td>\n",
       "    </tr>\n",
       "    <tr>\n",
       "      <th>3</th>\n",
       "      <td>276729</td>\n",
       "      <td>052165615X</td>\n",
       "      <td>3</td>\n",
       "    </tr>\n",
       "    <tr>\n",
       "      <th>4</th>\n",
       "      <td>276729</td>\n",
       "      <td>521795028</td>\n",
       "      <td>6</td>\n",
       "    </tr>\n",
       "  </tbody>\n",
       "</table>\n",
       "</div>"
      ],
      "text/plain": [
       "   User-ID        ISBN  Book-Rating\n",
       "0   276725  034545104X            0\n",
       "1   276726   155061224            5\n",
       "2   276727   446520802            0\n",
       "3   276729  052165615X            3\n",
       "4   276729   521795028            6"
      ]
     },
     "execution_count": 3,
     "metadata": {},
     "output_type": "execute_result"
    }
   ],
   "source": [
    "ratings.head()"
   ]
  },
  {
   "cell_type": "code",
   "execution_count": 4,
   "id": "b6143ab8",
   "metadata": {},
   "outputs": [
    {
     "data": {
      "text/plain": [
       "User-ID        0.0\n",
       "ISBN           0.0\n",
       "Book-Rating    0.0\n",
       "dtype: float64"
      ]
     },
     "execution_count": 4,
     "metadata": {},
     "output_type": "execute_result"
    }
   ],
   "source": [
    "ratings.isnull().sum()/len(ratings)*100"
   ]
  },
  {
   "cell_type": "code",
   "execution_count": 5,
   "id": "eabe7fc2",
   "metadata": {
    "scrolled": false
   },
   "outputs": [
    {
     "data": {
      "text/html": [
       "<div>\n",
       "<style scoped>\n",
       "    .dataframe tbody tr th:only-of-type {\n",
       "        vertical-align: middle;\n",
       "    }\n",
       "\n",
       "    .dataframe tbody tr th {\n",
       "        vertical-align: top;\n",
       "    }\n",
       "\n",
       "    .dataframe thead th {\n",
       "        text-align: right;\n",
       "    }\n",
       "</style>\n",
       "<table border=\"1\" class=\"dataframe\">\n",
       "  <thead>\n",
       "    <tr style=\"text-align: right;\">\n",
       "      <th></th>\n",
       "      <th>ISBN</th>\n",
       "      <th>Title</th>\n",
       "      <th>Author</th>\n",
       "      <th>Year</th>\n",
       "      <th>Publisher</th>\n",
       "      <th>Image-URL-S</th>\n",
       "      <th>Image-URL-M</th>\n",
       "      <th>Image-URL-L</th>\n",
       "    </tr>\n",
       "  </thead>\n",
       "  <tbody>\n",
       "    <tr>\n",
       "      <th>0</th>\n",
       "      <td>195153448</td>\n",
       "      <td>Classical Mythology</td>\n",
       "      <td>Mark P. O. Morford</td>\n",
       "      <td>2002</td>\n",
       "      <td>Oxford University Press</td>\n",
       "      <td>http://images.amazon.com/images/P/0195153448.0...</td>\n",
       "      <td>http://images.amazon.com/images/P/0195153448.0...</td>\n",
       "      <td>http://images.amazon.com/images/P/0195153448.0...</td>\n",
       "    </tr>\n",
       "    <tr>\n",
       "      <th>1</th>\n",
       "      <td>2005018</td>\n",
       "      <td>Clara Callan</td>\n",
       "      <td>Richard Bruce Wright</td>\n",
       "      <td>2001</td>\n",
       "      <td>HarperFlamingo Canada</td>\n",
       "      <td>http://images.amazon.com/images/P/0002005018.0...</td>\n",
       "      <td>http://images.amazon.com/images/P/0002005018.0...</td>\n",
       "      <td>http://images.amazon.com/images/P/0002005018.0...</td>\n",
       "    </tr>\n",
       "    <tr>\n",
       "      <th>2</th>\n",
       "      <td>60973129</td>\n",
       "      <td>Decision in Normandy</td>\n",
       "      <td>Carlo D'Este</td>\n",
       "      <td>1991</td>\n",
       "      <td>HarperPerennial</td>\n",
       "      <td>http://images.amazon.com/images/P/0060973129.0...</td>\n",
       "      <td>http://images.amazon.com/images/P/0060973129.0...</td>\n",
       "      <td>http://images.amazon.com/images/P/0060973129.0...</td>\n",
       "    </tr>\n",
       "    <tr>\n",
       "      <th>3</th>\n",
       "      <td>374157065</td>\n",
       "      <td>Flu: The Story of the Great Influenza Pandemic...</td>\n",
       "      <td>Gina Bari Kolata</td>\n",
       "      <td>1999</td>\n",
       "      <td>Farrar Straus Giroux</td>\n",
       "      <td>http://images.amazon.com/images/P/0374157065.0...</td>\n",
       "      <td>http://images.amazon.com/images/P/0374157065.0...</td>\n",
       "      <td>http://images.amazon.com/images/P/0374157065.0...</td>\n",
       "    </tr>\n",
       "    <tr>\n",
       "      <th>4</th>\n",
       "      <td>393045218</td>\n",
       "      <td>The Mummies of Urumchi</td>\n",
       "      <td>E. J. W. Barber</td>\n",
       "      <td>1999</td>\n",
       "      <td>W. W. Norton &amp;amp; Company</td>\n",
       "      <td>http://images.amazon.com/images/P/0393045218.0...</td>\n",
       "      <td>http://images.amazon.com/images/P/0393045218.0...</td>\n",
       "      <td>http://images.amazon.com/images/P/0393045218.0...</td>\n",
       "    </tr>\n",
       "  </tbody>\n",
       "</table>\n",
       "</div>"
      ],
      "text/plain": [
       "        ISBN                                              Title  \\\n",
       "0  195153448                                Classical Mythology   \n",
       "1    2005018                                       Clara Callan   \n",
       "2   60973129                               Decision in Normandy   \n",
       "3  374157065  Flu: The Story of the Great Influenza Pandemic...   \n",
       "4  393045218                             The Mummies of Urumchi   \n",
       "\n",
       "                 Author  Year                   Publisher  \\\n",
       "0    Mark P. O. Morford  2002     Oxford University Press   \n",
       "1  Richard Bruce Wright  2001       HarperFlamingo Canada   \n",
       "2          Carlo D'Este  1991             HarperPerennial   \n",
       "3      Gina Bari Kolata  1999        Farrar Straus Giroux   \n",
       "4       E. J. W. Barber  1999  W. W. Norton &amp; Company   \n",
       "\n",
       "                                         Image-URL-S  \\\n",
       "0  http://images.amazon.com/images/P/0195153448.0...   \n",
       "1  http://images.amazon.com/images/P/0002005018.0...   \n",
       "2  http://images.amazon.com/images/P/0060973129.0...   \n",
       "3  http://images.amazon.com/images/P/0374157065.0...   \n",
       "4  http://images.amazon.com/images/P/0393045218.0...   \n",
       "\n",
       "                                         Image-URL-M  \\\n",
       "0  http://images.amazon.com/images/P/0195153448.0...   \n",
       "1  http://images.amazon.com/images/P/0002005018.0...   \n",
       "2  http://images.amazon.com/images/P/0060973129.0...   \n",
       "3  http://images.amazon.com/images/P/0374157065.0...   \n",
       "4  http://images.amazon.com/images/P/0393045218.0...   \n",
       "\n",
       "                                         Image-URL-L  \n",
       "0  http://images.amazon.com/images/P/0195153448.0...  \n",
       "1  http://images.amazon.com/images/P/0002005018.0...  \n",
       "2  http://images.amazon.com/images/P/0060973129.0...  \n",
       "3  http://images.amazon.com/images/P/0374157065.0...  \n",
       "4  http://images.amazon.com/images/P/0393045218.0...  "
      ]
     },
     "execution_count": 5,
     "metadata": {},
     "output_type": "execute_result"
    }
   ],
   "source": [
    "books.head()"
   ]
  },
  {
   "cell_type": "code",
   "execution_count": 6,
   "id": "8fe2f738",
   "metadata": {},
   "outputs": [
    {
     "data": {
      "text/plain": [
       "ISBN           0.000000\n",
       "Title          0.000000\n",
       "Author         0.000369\n",
       "Year           0.000000\n",
       "Publisher      0.000737\n",
       "Image-URL-S    0.000000\n",
       "Image-URL-M    0.000000\n",
       "Image-URL-L    0.001106\n",
       "dtype: float64"
      ]
     },
     "execution_count": 6,
     "metadata": {},
     "output_type": "execute_result"
    }
   ],
   "source": [
    "books.isnull().sum()/len(books)*100"
   ]
  },
  {
   "cell_type": "code",
   "execution_count": 7,
   "id": "c021a448",
   "metadata": {
    "scrolled": true
   },
   "outputs": [
    {
     "data": {
      "text/plain": [
       "ISBN           0\n",
       "Title          0\n",
       "Author         0\n",
       "Year           0\n",
       "Publisher      0\n",
       "Image-URL-S    0\n",
       "Image-URL-M    0\n",
       "Image-URL-L    0\n",
       "dtype: int64"
      ]
     },
     "execution_count": 7,
     "metadata": {},
     "output_type": "execute_result"
    }
   ],
   "source": [
    "books.dropna(inplace = True)\n",
    "books.isnull().sum()"
   ]
  },
  {
   "cell_type": "code",
   "execution_count": 8,
   "id": "b74996c9",
   "metadata": {},
   "outputs": [
    {
     "data": {
      "text/html": [
       "<div>\n",
       "<style scoped>\n",
       "    .dataframe tbody tr th:only-of-type {\n",
       "        vertical-align: middle;\n",
       "    }\n",
       "\n",
       "    .dataframe tbody tr th {\n",
       "        vertical-align: top;\n",
       "    }\n",
       "\n",
       "    .dataframe thead th {\n",
       "        text-align: right;\n",
       "    }\n",
       "</style>\n",
       "<table border=\"1\" class=\"dataframe\">\n",
       "  <thead>\n",
       "    <tr style=\"text-align: right;\">\n",
       "      <th></th>\n",
       "      <th>User-ID</th>\n",
       "      <th>ISBN</th>\n",
       "      <th>Book-Rating</th>\n",
       "    </tr>\n",
       "  </thead>\n",
       "  <tbody>\n",
       "    <tr>\n",
       "      <th>0</th>\n",
       "      <td>276725</td>\n",
       "      <td>034545104X</td>\n",
       "      <td>0</td>\n",
       "    </tr>\n",
       "    <tr>\n",
       "      <th>1</th>\n",
       "      <td>276726</td>\n",
       "      <td>155061224</td>\n",
       "      <td>5</td>\n",
       "    </tr>\n",
       "    <tr>\n",
       "      <th>2</th>\n",
       "      <td>276727</td>\n",
       "      <td>446520802</td>\n",
       "      <td>0</td>\n",
       "    </tr>\n",
       "    <tr>\n",
       "      <th>3</th>\n",
       "      <td>276729</td>\n",
       "      <td>052165615X</td>\n",
       "      <td>3</td>\n",
       "    </tr>\n",
       "    <tr>\n",
       "      <th>4</th>\n",
       "      <td>276729</td>\n",
       "      <td>521795028</td>\n",
       "      <td>6</td>\n",
       "    </tr>\n",
       "  </tbody>\n",
       "</table>\n",
       "</div>"
      ],
      "text/plain": [
       "   User-ID        ISBN  Book-Rating\n",
       "0   276725  034545104X            0\n",
       "1   276726   155061224            5\n",
       "2   276727   446520802            0\n",
       "3   276729  052165615X            3\n",
       "4   276729   521795028            6"
      ]
     },
     "execution_count": 8,
     "metadata": {},
     "output_type": "execute_result"
    }
   ],
   "source": [
    "ratings.head()"
   ]
  },
  {
   "cell_type": "markdown",
   "id": "6d189786",
   "metadata": {},
   "source": [
    "## Summarize the Data"
   ]
  },
  {
   "cell_type": "code",
   "execution_count": 9,
   "id": "d6ac8c53",
   "metadata": {
    "scrolled": true
   },
   "outputs": [
    {
     "data": {
      "text/plain": [
       "<AxesSubplot:xlabel='Book-Rating', ylabel='count'>"
      ]
     },
     "execution_count": 9,
     "metadata": {},
     "output_type": "execute_result"
    },
    {
     "data": {
      "image/png": "[encoded data removed]",
      "text/plain": [
       "<Figure size 432x288 with 1 Axes>"
      ]
     },
     "metadata": {
      "needs_background": "light"
     },
     "output_type": "display_data"
    }
   ],
   "source": [
    "sns.countplot(x='Book-Rating',data = ratings)"
   ]
  },
  {
   "cell_type": "markdown",
   "id": "ef4a5479",
   "metadata": {},
   "source": [
    "Since there is so much noise for the values of 0, which according to the information provided with the dataset indicates \"implicit\", which in this case is slightly ambiguous. In regards to this issue, below I will remove these rows."
   ]
  },
  {
   "cell_type": "code",
   "execution_count": 10,
   "id": "40cdfe7d",
   "metadata": {},
   "outputs": [],
   "source": [
    "ratings = ratings[ratings[\"Book-Rating\"] != 0]"
   ]
  },
  {
   "cell_type": "code",
   "execution_count": 11,
   "id": "dba22b2a",
   "metadata": {
    "scrolled": true
   },
   "outputs": [
    {
     "data": {
      "text/plain": [
       "<AxesSubplot:xlabel='Book-Rating', ylabel='count'>"
      ]
     },
     "execution_count": 11,
     "metadata": {},
     "output_type": "execute_result"
    },
    {
     "data": {
      "image/png": "[encoded data removed]",
      "text/plain": [
       "<Figure size 432x288 with 1 Axes>"
      ]
     },
     "metadata": {
      "needs_background": "light"
     },
     "output_type": "display_data"
    }
   ],
   "source": [
    "sns.countplot(x='Book-Rating',data = ratings)"
   ]
  },
  {
   "cell_type": "code",
   "execution_count": 12,
   "id": "797c1a8f",
   "metadata": {},
   "outputs": [
    {
     "data": {
      "text/html": [
       "<div>\n",
       "<style scoped>\n",
       "    .dataframe tbody tr th:only-of-type {\n",
       "        vertical-align: middle;\n",
       "    }\n",
       "\n",
       "    .dataframe tbody tr th {\n",
       "        vertical-align: top;\n",
       "    }\n",
       "\n",
       "    .dataframe thead th {\n",
       "        text-align: right;\n",
       "    }\n",
       "</style>\n",
       "<table border=\"1\" class=\"dataframe\">\n",
       "  <thead>\n",
       "    <tr style=\"text-align: right;\">\n",
       "      <th></th>\n",
       "      <th>User-ID</th>\n",
       "      <th>ISBN</th>\n",
       "      <th>Book-Rating</th>\n",
       "    </tr>\n",
       "  </thead>\n",
       "  <tbody>\n",
       "    <tr>\n",
       "      <th>1</th>\n",
       "      <td>276726</td>\n",
       "      <td>155061224</td>\n",
       "      <td>5</td>\n",
       "    </tr>\n",
       "    <tr>\n",
       "      <th>3</th>\n",
       "      <td>276729</td>\n",
       "      <td>052165615X</td>\n",
       "      <td>3</td>\n",
       "    </tr>\n",
       "    <tr>\n",
       "      <th>4</th>\n",
       "      <td>276729</td>\n",
       "      <td>521795028</td>\n",
       "      <td>6</td>\n",
       "    </tr>\n",
       "    <tr>\n",
       "      <th>6</th>\n",
       "      <td>276736</td>\n",
       "      <td>3257224281</td>\n",
       "      <td>8</td>\n",
       "    </tr>\n",
       "    <tr>\n",
       "      <th>7</th>\n",
       "      <td>276737</td>\n",
       "      <td>600570967</td>\n",
       "      <td>6</td>\n",
       "    </tr>\n",
       "  </tbody>\n",
       "</table>\n",
       "</div>"
      ],
      "text/plain": [
       "   User-ID        ISBN  Book-Rating\n",
       "1   276726   155061224            5\n",
       "3   276729  052165615X            3\n",
       "4   276729   521795028            6\n",
       "6   276736  3257224281            8\n",
       "7   276737   600570967            6"
      ]
     },
     "execution_count": 12,
     "metadata": {},
     "output_type": "execute_result"
    }
   ],
   "source": [
    "ratings.head()"
   ]
  },
  {
   "cell_type": "code",
   "execution_count": 13,
   "id": "3b59650c",
   "metadata": {},
   "outputs": [
    {
     "name": "stdout",
     "output_type": "stream",
     "text": [
      "Number of users: 70642, Number of Books: 174921\n",
      "The unique rating values = [1, 2, 3, 4, 5, 6, 7, 8, 9, 10]\n"
     ]
    }
   ],
   "source": [
    "# Get the unique userIds\n",
    "user_ids = ratings[\"User-ID\"].unique().tolist()\n",
    "# Map userIds to the corresponding indices\n",
    "user2user_encoded = {x: i for i, x in enumerate(user_ids)}\n",
    "# Inverse transform from index to userId\n",
    "userencoded2user = {i: x for i, x in enumerate(user_ids)}\n",
    "# Get the unique ISBN\n",
    "books_ids = ratings[\"ISBN\"].unique().tolist()\n",
    "# Map ISBN to the corresponding index\n",
    "books2books_encoded = {x: i for i, x in enumerate(books_ids)}\n",
    "# Inverse transform from index to userId\n",
    "books_encoded2books = {i: x for i, x in enumerate(books_ids)}\n",
    "ratings[\"User-ID\"] = ratings[\"User-ID\"].map(user2user_encoded)\n",
    "ratings[\"ISBN\"] = ratings[\"ISBN\"].map(books2books_encoded)\n",
    "\n",
    "num_users = len(user2user_encoded)\n",
    "num_books = len(books_encoded2books)\n",
    "unique_rating = ratings[\"Book-Rating\"].unique().tolist()\n",
    "ratings[\"Book-Rating\"] = ratings[\"Book-Rating\"].values.astype(np.float32)\n",
    "\n",
    "\n",
    "print(f\"Number of users: {num_users}, Number of Books: {num_books}\")\n",
    "print(f\"The unique rating values = {sorted(unique_rating)}\")"
   ]
  },
  {
   "cell_type": "markdown",
   "id": "c3ce2821",
   "metadata": {},
   "source": [
    "## Split the Data into Training and Test Dataset\n",
    "\n",
    "We take out the features and label. We convert the label to the range of [0, 1] to improve the network's performance."
   ]
  },
  {
   "cell_type": "code",
   "execution_count": 14,
   "id": "f42d391a",
   "metadata": {},
   "outputs": [],
   "source": [
    "X = ratings[[\"User-ID\", \"ISBN\"]].values\n",
    "# Normalize the targets between 0 and 1. \n",
    "scaler = MinMaxScaler()\n",
    "y = scaler.fit_transform(ratings[\"Book-Rating\"].values.reshape(-1,1))\n",
    "\n",
    "X_train, X_test, y_train, y_test = train_test_split(X, y, test_size=0.2, random_state= 101)"
   ]
  },
  {
   "cell_type": "code",
   "execution_count": 15,
   "id": "802be50d",
   "metadata": {},
   "outputs": [],
   "source": [
    "# Set the dimensionaliy of the embedding space\n",
    "EMBEDDING_SIZE = 50\n",
    "\n",
    "# Create a subclass from Model class\n",
    "class RecommenderNet(keras.Model):\n",
    "    # construct the layers in the constructor\n",
    "    def __init__(self, num_users, num_books, embedding_size, **kwargs):\n",
    "        super(RecommenderNet, self).__init__(**kwargs)\n",
    "        self.num_users = num_users\n",
    "        self.num_books = num_books\n",
    "        self.embedding_size = embedding_size\n",
    "        # Map userIds to  smaller vector space\n",
    "        self.user_embedding = layers.Embedding(\n",
    "            num_users,\n",
    "            embedding_size,\n",
    "            embeddings_initializer=\"he_normal\",\n",
    "            embeddings_regularizer=keras.regularizers.l2(1),\n",
    "        )\n",
    "        # Generate a bias \n",
    "        self.user_bias = layers.Embedding(num_users, 1)\n",
    "        # Map ISBN to  smaller vector space\n",
    "        self.books_embedding = layers.Embedding(\n",
    "            num_books,\n",
    "            embedding_size,\n",
    "            embeddings_initializer=\"he_normal\",\n",
    "            embeddings_regularizer=keras.regularizers.l2(1),\n",
    "        )\n",
    "        # Book bias\n",
    "        self.books_bias = layers.Embedding(num_books, 1)\n",
    "    # The forward pass to do computation\n",
    "    def call(self, inputs):\n",
    "        # Take out the first feature of userIds and do embedding\n",
    "        user_vector = self.user_embedding(inputs[:, 0])\n",
    "        user_bias = self.user_bias(inputs[:, 0])\n",
    "        # Take out the 2nd feature of ISBN and do embedding\n",
    "        books_vector = self.books_embedding(inputs[:, 1])\n",
    "        books_bias = self.books_bias(inputs[:, 1])\n",
    "        # \n",
    "        dot_user_books = tf.tensordot(user_vector, books_vector, 2)\n",
    "        # Add all the components (including bias)\n",
    "        x = dot_user_books + user_bias + books_bias\n",
    "        # The sigmoid activation forces the rating to between 0 and 1\n",
    "        return tf.nn.sigmoid(x)\n",
    "\n",
    "# Create the model based on the sublass defined above\n",
    "model = RecommenderNet(num_users, num_books, EMBEDDING_SIZE)"
   ]
  },
  {
   "cell_type": "markdown",
   "id": "86344152",
   "metadata": {},
   "source": [
    "## Configure the Model\n",
    "\n",
    "There are only two cases for the label. It either recommends the book or doesn't recommend it. It is a binary classification. The loss function should be binary cross-entropy. We also need to specify the optimizer."
   ]
  },
  {
   "cell_type": "code",
   "execution_count": 16,
   "id": "de34c010",
   "metadata": {},
   "outputs": [],
   "source": [
    "model.compile(loss=tf.keras.losses.BinaryCrossentropy(), optimizer=keras.optimizers.Adam(learning_rate=0.001))"
   ]
  },
  {
   "cell_type": "markdown",
   "id": "5f133975",
   "metadata": {},
   "source": [
    "## Train the Model\n",
    "\n",
    "We train the model using early stopping."
   ]
  },
  {
   "cell_type": "code",
   "execution_count": 17,
   "id": "66150aac",
   "metadata": {
    "scrolled": true
   },
   "outputs": [
    {
     "name": "stdout",
     "output_type": "stream",
     "text": [
      "Epoch 1/100\n",
      "2483/2483 [==============================] - 16s 6ms/step - loss: 0.9831 - val_loss: 0.6334\n",
      "Epoch 2/100\n",
      "2483/2483 [==============================] - 15s 6ms/step - loss: 0.6186 - val_loss: 0.6186\n",
      "Epoch 3/100\n",
      "2483/2483 [==============================] - 15s 6ms/step - loss: 0.5965 - val_loss: 0.6031\n",
      "Epoch 4/100\n",
      "2483/2483 [==============================] - 15s 6ms/step - loss: 0.5790 - val_loss: 0.5890\n",
      "Epoch 5/100\n",
      "2483/2483 [==============================] - 15s 6ms/step - loss: 0.5684 - val_loss: 0.5826\n",
      "Epoch 6/100\n",
      "2483/2483 [==============================] - 15s 6ms/step - loss: 0.5607 - val_loss: 0.5785\n",
      "Epoch 7/100\n",
      "2483/2483 [==============================] - 15s 6ms/step - loss: 0.5548 - val_loss: 0.5761\n",
      "Epoch 8/100\n",
      "2483/2483 [==============================] - 15s 6ms/step - loss: 0.5501 - val_loss: 0.5745\n",
      "Epoch 9/100\n",
      "2483/2483 [==============================] - 15s 6ms/step - loss: 0.5461 - val_loss: 0.5735\n",
      "Epoch 10/100\n",
      "2483/2483 [==============================] - 15s 6ms/step - loss: 0.5428 - val_loss: 0.5728\n",
      "Epoch 11/100\n",
      "2483/2483 [==============================] - 15s 6ms/step - loss: 0.5398 - val_loss: 0.5723\n",
      "Epoch 12/100\n",
      "2483/2483 [==============================] - 15s 6ms/step - loss: 0.5372 - val_loss: 0.5721\n",
      "Epoch 13/100\n",
      "2483/2483 [==============================] - 15s 6ms/step - loss: 0.5348 - val_loss: 0.5719\n",
      "Epoch 14/100\n",
      "2483/2483 [==============================] - 15s 6ms/step - loss: 0.5327 - val_loss: 0.5719\n",
      "Epoch 15/100\n",
      "2483/2483 [==============================] - 15s 6ms/step - loss: 0.5308 - val_loss: 0.5720\n",
      "Epoch 16/100\n",
      "2483/2483 [==============================] - 15s 6ms/step - loss: 0.5290 - val_loss: 0.5721\n"
     ]
    }
   ],
   "source": [
    "from tensorflow.keras.callbacks import EarlyStopping\n",
    "early_stopping = EarlyStopping(\n",
    "    monitor='val_loss', \n",
    "    patience=5, \n",
    "    min_delta=0.001, \n",
    "    mode='min')\n",
    "history = model.fit(\n",
    "    x=X_train,\n",
    "    y=y_train,\n",
    "    batch_size= 128,\n",
    "    epochs=100,\n",
    "    verbose=1,\n",
    "    validation_data=(X_test, y_test),\n",
    "    callbacks=[early_stopping])"
   ]
  },
  {
   "cell_type": "code",
   "execution_count": 18,
   "id": "6ef61232",
   "metadata": {
    "scrolled": false
   },
   "outputs": [
    {
     "name": "stdout",
     "output_type": "stream",
     "text": [
      "Model: \"recommender_net\"\n",
      "_________________________________________________________________\n",
      " Layer (type)                Output Shape              Param #   \n",
      "=================================================================\n",
      " embedding (Embedding)       multiple                  3532100   \n",
      "                                                                 \n",
      " embedding_1 (Embedding)     multiple                  70642     \n",
      "                                                                 \n",
      " embedding_2 (Embedding)     multiple                  8746050   \n",
      "                                                                 \n",
      " embedding_3 (Embedding)     multiple                  174921    \n",
      "                                                                 \n",
      "=================================================================\n",
      "Total params: 12,523,713\n",
      "Trainable params: 12,523,713\n",
      "Non-trainable params: 0\n",
      "_________________________________________________________________\n"
     ]
    }
   ],
   "source": [
    "model.summary()"
   ]
  },
  {
   "cell_type": "markdown",
   "id": "904d7627",
   "metadata": {},
   "source": [
    "## Model Diagnostics\n",
    "\n",
    "Let's check the in sample fit and out sample fit."
   ]
  },
  {
   "cell_type": "code",
   "execution_count": 19,
   "id": "01d5c396",
   "metadata": {},
   "outputs": [
    {
     "data": {
      "text/plain": [
       "<matplotlib.legend.Legend at 0x229e7506dc0>"
      ]
     },
     "execution_count": 19,
     "metadata": {},
     "output_type": "execute_result"
    },
    {
     "data": {
      "image/png": "[encoded data removed]",
      "text/plain": [
       "<Figure size 432x288 with 1 Axes>"
      ]
     },
     "metadata": {
      "needs_background": "light"
     },
     "output_type": "display_data"
    }
   ],
   "source": [
    "train_history = pd.DataFrame(history.history)\n",
    "train_history['epoch'] = history.epoch\n",
    "sns.lineplot(x='epoch', y ='loss', data =train_history)\n",
    "sns.lineplot(x='epoch', y ='val_loss', data =train_history)\n",
    "plt.legend(labels=['train_loss', 'val_loss'])"
   ]
  },
  {
   "cell_type": "markdown",
   "id": "0495a7c5",
   "metadata": {},
   "source": [
    "## Recommend Books\n",
    "\n",
    "The recommender system only can forecast it for the existing users in the dataset. Let's randomly select a user and recommend several books for him/her."
   ]
  },
  {
   "cell_type": "code",
   "execution_count": 20,
   "id": "56c1d582",
   "metadata": {},
   "outputs": [
    {
     "name": "stdout",
     "output_type": "stream",
     "text": [
      "44739\n"
     ]
    }
   ],
   "source": [
    "# Randomly select a user from the rating dataset\n",
    "from random import sample\n",
    "user_id = str(random.sample(set(user_ids), 1))[1:-1]\n",
    "print(user_id)"
   ]
  },
  {
   "cell_type": "code",
   "execution_count": 21,
   "id": "a74192e6",
   "metadata": {},
   "outputs": [],
   "source": [
    "# Subset the books read and not read by this user\n",
    "books_read_by_user = ratings[ratings[\"User-ID\"] == user_id]\n",
    "books_not_read = books[~books[\"ISBN\"].isin(books_read_by_user.ISBN.values)][\"ISBN\"]\n",
    "# Find the books not read that contains in the rating dataset\n",
    "books_not_read = list(set(books_not_read).intersection(set(books2books_encoded.keys())))\n",
    "# Map  the books to the indices\n",
    "books_not_read = [[books2books_encoded.get(x)] for x in books_not_read]\n",
    "# Map the user Id to the index\n",
    "user_encoder = user2user_encoded.get(int(user_id))\n",
    "# Generate a dataset with two columns\n",
    "# The first column is the user_encoder that is the same for all rows\n",
    "# The 2nd column is the books not read by this user.\n",
    "user_books_array = np.hstack(([[user_encoder]] * len(books_not_read), books_not_read))\n",
    "# Forecast the ratings(probablity of this user will read it )\n",
    "ratings = model.predict(user_books_array).flatten()\n",
    "# Find the indices of the top 10 ratings by using argsort\n",
    "top_ratings_indices = ratings.argsort()[-10:][::-1]\n",
    "# Find the recommened book Ids\n",
    "recommended_books_ids = [books_encoded2books.get(books_not_read[x][0]) for x in top_ratings_indices]"
   ]
  },
  {
   "cell_type": "code",
   "execution_count": 22,
   "id": "5454c6ae",
   "metadata": {},
   "outputs": [
    {
     "name": "stdout",
     "output_type": "stream",
     "text": [
      "--------------------------------------------------------------------------------\n",
      "Top 10 Books recommendations\n",
      "--------------------------------------------------------------------------------\n",
      "The title: Where the Sidewalk Ends : Poems and Drawings; Author: Shel Silverstein; Published: 1974\n",
      "The title: 84 Charing Cross Road; Author: Helene Hanff; Published: 1990\n",
      "The title: Fox in Socks (I Can Read It All by Myself Beginner Books); Author: Dr. Seuss; Published: 1965\n",
      "The title: The Two Towers (The Lord of the Rings, Part 2); Author: J. R. R. Tolkien; Published: 1999\n",
      "The title: The Giving Tree; Author: Shel Silverstein; Published: 1964\n",
      "The title: Calvin and Hobbes; Author: Bill Watterson; Published: 1987\n",
      "The title: My Sister's Keeper : A Novel (Picoult, Jodi); Author: Jodi Picoult; Published: 2004\n",
      "The title: Dilbert: A Book of Postcards; Author: Scott Adams; Published: 1996\n",
      "The title: Harry Potter and the Chamber of Secrets Postcard Book; Author: J. K. Rowling; Published: 2002\n",
      "The title: The Hitchhiker's Guide to the Galaxy; Author: Douglas Adams; Published: 1997\n"
     ]
    }
   ],
   "source": [
    "# Below, I only chose to show the Top 10 Recommendations, however if somebody wanted to \n",
    "#             show the \"Top 10 Books rated by the User\" I provided the code below as well. \n",
    "\n",
    "# print(\"Showing recommendations for user: {}\".format(user_id))\n",
    "#print(f\"Showing recommendations for user: {user_id}\")\n",
    "#print(\"====\" * 20)\n",
    "#print(\"Top 10 Books with high ratings from user\")\n",
    "#print(\"----\" * 20)\n",
    "#top_books_user = (books_read_by_user.sort_values(by=\"Book-Rating\", ascending=False).head(10).ISBN.values)\n",
    "#books_rows = books[books[\"ISBN\"].isin(top_books_user)]\n",
    "#for row in books_rows.itertuples():\n",
    "#print(f\"The title: {row.Title}; Author: {row.Author}; Published: {row.Year}\")\n",
    "print(\"----\" * 20)\n",
    "print(\"Top 10 Books recommendations\")\n",
    "print(\"----\" * 20)\n",
    "recommended_books = books[books[\"ISBN\"].isin(recommended_books_ids)]\n",
    "for row in recommended_books.itertuples():\n",
    "    print(f\"The title: {row.Title}; Author: {row.Author}; Published: {row.Year}\")"
   ]
  }
 ],
 "metadata": {
  "kernelspec": {
   "display_name": "Python 3",
   "language": "python",
   "name": "python3"
  },
  "language_info": {
   "codemirror_mode": {
    "name": "ipython",
    "version": 3
   },
   "file_extension": ".py",
   "mimetype": "text/x-python",
   "name": "python",
   "nbconvert_exporter": "python",
   "pygments_lexer": "ipython3",
   "version": "3.8.8"
  }
 },
 "nbformat": 4,
 "nbformat_minor": 5
}
